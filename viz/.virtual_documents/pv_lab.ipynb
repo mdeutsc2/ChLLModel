import pyvista as pv
pv.start_xvfb()
pv.set_jupyter_backend("trame")



