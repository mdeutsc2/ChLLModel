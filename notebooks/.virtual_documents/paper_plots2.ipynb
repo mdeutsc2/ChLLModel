import numpy as np
import matplotlib as mpl
import matplotlib.pyplot as plt
import scienceplots
from mpl_toolkits.mplot3d import axes3d 
import os
from tqdm.auto import tqdm
from numba import jit,stencil
import scipy

plt.style.use('science')

def walk_datafiles(fpath):
    # loading all of the csv's from all of the simulations with the macro measured data (total energy, ent. excess, Paccept....)
    simlist = []
    datafiles = []
    csvfiles = []
    ic = 0
    for root, dirs, files in os.walk(fpath):#"../data/pdanneal/"
        for file in files:
            #print(file)
            if file.endswith(".npz"):
                datafiles.append(os.path.join(root,file))
            if file.endswith(".csv"):
                csvfiles.append(os.path.join(root,file))
        for name in dirs:
            simlist.append(name)
    simlist = sorted(simlist)
    datafiles = sorted(datafiles)
    csvfiles = sorted(csvfiles)
    assert len(simlist) == len(datafiles) == len(csvfiles)
    return simlist,datafiles,csvfiles


def load_csv(fname,verbose=True):
    if verbose:
        with open(fname) as f:
            print(f.readline().strip('\n'))
    return np.loadtxt(fname,skiprows=1,delimiter=",")

def plot_energy(fpath,csv1,save=False):
    fig,ax1 = plt.subplots()
    ax1.set_title(simlist[0])
    ax1.plot(csv1[:,0],csv1[:,1],label="TotalEnergy")
    ax1.set_xlabel("timesteps")
    ax1.set_ylabel("Total Energy")
    ax1.tick_params(axis ='y', labelcolor="tab:blue")
    ax2  = ax1.twinx()
    ax2.plot(csv1[:,0],csv1[:,2],label="Eexcess",color="tab:orange")
    ax2.set_ylabel("Ent. Excess")
    ax2.tick_params(axis ='y', labelcolor = "tab:orange")
    plt.show()
    if save:
        fname = fpath[:-4]+"_energy.png"
        print(fname)
        fig.savefig(fname)
    
@jit(nopython=True)
def calc_n_corr(nx,ny,nz,nshells):
    g = np.zeros(nshells)
    c = np.zeros(nshells)
    ni,nj,nk = nx.shape
    for i in np.arange(ni):
        for j in np.arange(nj):
            for k in np.arange(nk):
                for di in np.arange(-nshells,nshells+1):
                    for dj in np.arange(-nshells,nshells+1):
                        for dk in np.arange(-nshells,nshells+1):
                            r2 = di*di + dj*dj + dk*dk
                            if r2 < nshells*nshells:
                                rr = np.sqrt(r2)
                                ii = i + di
                                jj = j + dj
                                kk = k + dk
                                if (ii < ni) and (jj < nj) and (kk < nk) and (ii >= 0) and (jj >= 0) and (kk >= 0):
                                    ishell = int(np.floor(rr))
                                    g[ishell] = g[ishell] + (nx[i,j,k]*nx[ii,jj,kk] + ny[i,j,k]*ny[ii,jj,kk] + nz[i,j,k]*nz[ii,jj,kk])**2
                                    c[ishell] += 1
    for ishell in np.arange(nshells):
        g[ishell] = g[ishell]/c[ishell]
    return g,c
                                
@jit(nopython=True)
def calc_s_corr(s,nshells):
    g = np.zeros(nshells)
    c = np.zeros(nshells)
    ni,nj,nk = s.shape
    s_avg2 = np.mean(s)**2
    for i in np.arange(ni):
        for j in np.arange(nj):
            for k in np.arange(nk):
                #print(i,j,k)
                for di in np.arange(-nshells,nshells+1):
                    for dj in np.arange(-nshells,nshells+1):
                        for dk in np.arange(-nshells,nshells+1):
                            r2 = di*di + dj*dj + dk*dk
                            if r2 < nshells*nshells:
                                rr = np.sqrt(r2)
                                ii = i + di
                                jj = j + dj
                                kk = k + dk
                                if (ii < ni) and (jj < nj) and (kk < nk) and (ii >= 0) and (jj >= 0) and (kk >= 0):
                                    ishell = int(np.floor(rr))
                                    #assert ishell > 0
                                    #g[ishell] = g[ishell] + s[i,j,k] * s[ii,jj,kk]# pdanneal_ch_len.npz
                                    g[ishell] = g[ishell] + s[i,j,k] * s[ii,jj,kk] - s_avg2 #pdanneal_ch_len2.npz
                                    c[ishell] += 1
    for ishell in np.arange(nshells):
        g[ishell] = g[ishell]/c[ishell]# - s_avg2
    return g,c

def plot_s_corr(fpath,g):
    nshells = len(g)
    fig,ax = plt.subplots()
    ax.set_title(fpath.split("/")[-2])
    ax.plot(np.arange(nshells),g)
    ax.set_ylabel("Chiral Correlation")
    ax.set_xlabel("Shells")
    plt.show()

def plot_n_corr(fpath,g):
    nshells = len(g)
    fig,ax = plt.subplots()
    ax.set_title(fpath.split("/")[-2])
    ax.plot(np.arange(nshells),g)
    ax.set_ylabel("Nematic Correlation")
    ax.set_xlabel("Shells")
    plt.show()

def func(x, a, l):
    return a * np.exp(-x/l)
    
def fit_corr_exp(g):
    nshells = len(g)
    popt,pcov = scipy.optimize.curve_fit(func,np.arange(nshells),g)
    return popt[0],popt[1]

def func2(x, a, l, c):
    return a * np.exp(-x/l) + c
    
def fit_corr_exp2(g):
    nshells = len(g)
    popt,pcov = scipy.optimize.curve_fit(func2,np.arange(nshells),g)
    return popt[0],popt[1], popt[2]

def get_temp_K(csvfiles):
    Ks = []
    kbts = []
    for csvfile in csvfiles:
        csv1 = load_csv(csvfile,verbose=False)
        K = float(csvfile.split("/")[3].split("_")[-2][1:])
        kbt = float(csvfile.split("/")[3].split("_")[-1][3:])
        Ks.append(K)
        kbts.append(kbt)#/Tin)
    Ks = sorted(list(set(Ks))) #list of all Ks w/ duplicates removed
    kbts = sorted(list(set(kbts))) # list of all Kbts w/ duplicates removed
    print(Ks)
    print(kbts)
    return kbts,Ks


def calc_specific_heat():
    # 3d chiral susceptibility
    # get all Ks and kbts for a range
    # loading all of the csv's from all of the simulations with the macro measured data (total energy, ent. excess, Paccept....)
    simlist,datafiles,csvfiles = walk_datafiles("../data/pdanneal/")  
    kbts,Ks = get_temp_K(csvfiles)
    
    C_v = np.empty((len(kbts),len(Ks)))
    print(C_v.shape)
    for csvfile in tqdm(csvfiles):
        csv1 = load_csv(csvfile,verbose=False)
        K = float(csvfile.split("/")[3].split("_")[-2][1:])
        kbt = float(csvfile.split("/")[3].split("_")[-1][3:])
        if K in Ks :#and "alignedlong4" in csvfile:
            K_index = Ks.index(K)
            kbt_index = kbts.index(kbt)
            #specific heat
            #print(csv1.shape)
            E = csv1[-100:,1]
            tmp = (np.mean(E**2) - np.mean(E)**2)/kbt
            # if tmp > 0.00001:
            #     tmp = 0.00001
            #C_v[kbt_index,K_index] = np.log(tmp)
            C_v[kbt_index,K_index] = np.log10(tmp)
            #C_v[kbt_index,K_index] = tmp
    return C_v

@stencil
def ekernel(nx,ny,nz,s):
    KK = 1.0
    e = 0.0
    # i + 1
    dott = nx[0,0,0]*nx[1,0,0] + ny[0,0,0]*ny[1,0,0] + nz[0,0,0]*nz[1,0,0]
    crossx = ny[0,0,0]*nz[1,0,0] - nz[0,0,0]*ny[1,0,0]
    sfac = 0.5*(s[0,0,0]+s[1,0,0])
    e += (1.0-dott*dott)-KK*dott*crossx*sfac
    # i - 1
    dott = nx[0,0,0]*nx[-1,0,0] + ny[0,0,0]*ny[-1,0,0] + nz[0,0,0]*nz[-1,0,0]
    crossx = ny[0,0,0]*nz[-1,0,0] - nz[0,0,0]*ny[-1,0,0]
    sfac = 0.5*(s[0,0,0]+s[-1,0,0])
    e += (1.0-dott*dott)+KK*dott*crossx*sfac
    # j + 1
    dott = nx[0,0,0]*nx[0,1,0] + ny[0,0,0]*ny[0,1,0] + nz[0,0,0]*nz[0,1,0]
    crossy = nz[0,0,0]*nx[0,1,0] - nx[0,0,0]*nz[0,1,0]
    sfac = 0.5*(s[0,0,0]+s[0,1,0])
    e += (1.0-dott*dott)-KK*dott*crossy*sfac
    # j - 1
    dott = nx[0,0,0]*nx[0,-1,0] + ny[0,0,0]*ny[0,-1,0] + nz[0,0,0]*nz[0,-1,0]
    crossy = nz[0,0,0]*nx[0,-1,0] - nx[0,0,0]*nz[0,-1,0]
    sfac = 0.5*(s[0,0,0]+s[0,-1,0])
    e += (1.0-dott*dott)+KK*dott*crossy*sfac
    # k + 1
    dott = nx[0,0,0]*nx[0,0,1] + ny[0,0,0]*ny[0,0,1] + nz[0,0,0]*nz[0,0,1]
    crossz = nx[0,0,0]*ny[0,0,1] - ny[0,0,0]*nx[0,0,1]
    sfac = 0.5*(s[0,0,0]+s[0,0,1])
    e += (1.0-dott*dott)-KK*dott*crossz*sfac
    # k - 1
    dott = nx[0,0,0]*nx[0,0,-1] + ny[0,0,0]*ny[0,0,-1] + nz[0,0,0]*nz[0,0,-1]
    crossz = nx[0,0,0]*ny[0,0,-1] - ny[0,0,0]*nx[0,0,-1]
    sfac = 0.5*(s[0,0,0]+s[0,0,-1])
    e += (1.0-dott*dott)+KK*dott*crossz*sfac
    return e
    
%matplotlib widget
default_colormap = 'RdYlBu'#'coolwarm'#'Spectral'#'YlGnBu'
default_fontsize = 24
if not os.path.isdir("./paper_plots/"):
    os.makedirs("./paper_plots")


simlist,datafiles,csvfiles = walk_datafiles("../data/pdanneal")
plt.rcParams['text.usetex'] = True
data = np.load("pdanneal_ch_sus.npz")
ch_sus = data['ch_sus']
Tin = 1.1224*(2.0/3.0)
Jinverse = (2.0/3.0)
kbts,Ks = get_temp_K(csvfiles)

kbts = [t/Tin for t in kbts]
Ks = [k*Jinverse for k in Ks] # adjusting these parameters for their corrected values
X,Y = np.meshgrid(kbts,Ks)
fig,ax1 = plt.subplots(figsize=(10,8))
ax1.set_ylabel(r'$ K/J $',fontsize=default_fontsize)
ax1.set_xlabel(r'$ T/T_{IN} $',fontsize=default_fontsize)
ax1.set_xlim(np.min(kbts),np.max(kbts))
ax1.set_ylim(np.min(Ks),np.max(Ks))
#ax1.set_zlim(0,64)
#ax1.set_zlabel(r'$ \chi_c $')
cont1 = ax1.imshow(ch_sus, cmap=default_colormap,origin="lower",extent = (np.min(kbts),np.max(kbts),np.min(Ks),np.max(Ks)),interpolation="bicubic",aspect="auto") #BuPu
#cont1 = ax1.contour(X, Y, ch_sus, cmap='viridis',levels=16)
cbar1 = plt.colorbar(cont1, ax=ax1,spacing="uniform")#,shrink=0.85) #0.715
cbar1.set_label(r'$ \chi_c $', rotation=90,fontsize=default_fontsize)
cbar1.ax.tick_params(labelsize=default_fontsize)
plt.xticks(fontsize=default_fontsize)
plt.yticks(fontsize=default_fontsize)
#ax1.set_aspect(1)
fig.tight_layout()
plt.savefig("./paper_plots/ch_sus_annealed.png")
plt.show()


simlist,datafiles,csvfiles = walk_datafiles("../data/pdanneal")
C_v = calc_specific_heat()
plt.rcParams['text.usetex'] = True
Tin = 1.1224*(2.0/3.0)
Jinverse = (2.0/3.0)
kbts,Ks = get_temp_K(csvfiles)

kbts = [t/Tin for t in kbts]
Ks = [k*Jinverse for k in Ks] # adjusting these parameters for their corrected values
X,Y = np.meshgrid(kbts,Ks)
fig,ax2 = plt.subplots(figsize=(10,8))
ax2.set_ylabel(r'\textbf{$ K/J $}',fontsize=default_fontsize)
ax2.set_xlabel(r'\textbf{$ T/T_{IN} $}',fontsize=default_fontsize)
ax2.set_xlim(np.min(kbts),np.max(kbts))
ax2.set_ylim(np.min(Ks),np.max(Ks))
#ax1.set_zlim(0,64)
#ax1.set_zlabel(r'$ \chi_c $')
cont2 = ax2.imshow(C_v.T, cmap=default_colormap,origin="lower",extent = (np.min(kbts),np.max(kbts),np.min(Ks),np.max(Ks)),interpolation="bicubic",aspect="auto") #BuPu 0.65
#cont1 = ax1.contour(X, Y, ch_sus, cmap='viridis',levels=16)
cbar2 = plt.colorbar(cont2, ax=ax2,spacing="uniform")#,shrink=0.85)
cbar2.set_label(r'\textbf{$ \mathrm{log_{10}} C_v $}', rotation=90,fontsize=default_fontsize)
cbar2.ax.tick_params(labelsize=default_fontsize)
plt.xticks(fontsize=default_fontsize)
plt.yticks(fontsize=default_fontsize)
#ax2.set_aspect(1)
fig.tight_layout()
plt.savefig("./paper_plots/specific_heat_annealed.png")
plt.show()


from matplotlib.lines import Line2D
csvfiles = []
for root, dirs, files in os.walk("./ent_ex_annealed/"):
    for file in files:
        if file.endswith(".csv") and "ent_ex_annealed" in file and "checkpoint" not in file:
            csvfiles.append(os.path.join(root,file))
csvfiles = sorted(csvfiles)
Tin = 1.1224*(2.0/3.0)
plt.close('all')
fig,axs = plt.subplots(2,5,figsize=(20,8),dpi=125)
plot_kbts = np.array([[0.05,0.1,0.15,0.2,0.25],[0.3,0.35,0.4,0.45,0.5]])
for file in csvfiles:
    with open(file,"r") as f:
        header = f.readline()
    KoJ = float(header.split(" ")[1].split("=")[-1].strip())
    kbt = float(header.split(" ")[2].split("=")[-1].strip())
    #print(kbt in plot_kbts, np.argwhere(plot_kbts==kbt)[0])
    #break
    if kbt in plot_kbts:
        idx = list(np.argwhere(plot_kbts==kbt)[0])
        #print(list(idx))
        data = np.loadtxt(file,skiprows=1,delimiter=',')
        X = data[:,0]
        Y = data[:,1]
        axs[idx[0],idx[1]].plot(X,Y,marker='x',markeredgewidth=1,linewidth=1,linestyle='dashed',label=r"\textbf{$K/J$}: "+str(np.around(KoJ,3)),zorder=2)
        #ax.plot(X,Y,marker='x',linewidth=2,linestyle='dashed',label=str(np.around(Kplot*Jinverse,3)),zorder=2)
        axs[idx[0],idx[1]].set_ylim(0.0,1.1)
        #axs[idx[0],idx[1]].set_xlim(0.0,5.5)
        axs[idx[0],idx[1]].set_ylabel(r'\textbf{ $\eta$}')#,fontsize=default_fontsize)
        axs[idx[0],idx[1]].set_xlabel(r'\textbf{$g/k_B T$}')#,fontsize=default_fontsize)
        axs[idx[0],idx[1]].set_title(r'\textbf{$T/T_{IN} =' + str(np.round(kbt/Tin,3)) + '$}')#,fontsize=default_fontsize)
        axs[idx[0],idx[1]].plot(X,np.tanh(X),linewidth=1,linestyle='solid',label=r"$tanh(\frac{g}{k_B T})$",color='k',zorder=1)
        axs[idx[0],idx[1]].xaxis.set_major_locator(plt.MaxNLocator(5))
        axs[idx[0],idx[1]].yaxis.set_major_locator(plt.MaxNLocator(5))
        # axs[idx[0],idx[1]].set_adjustable('box')
        # axs[idx[0],idx[1]].set_aspect('equal')
plt.xticks()#fontsize=default_fontsize)
plt.yticks()#fontsize=default_fontsize)
# custom legend
custom_lines = [Line2D([0], [0], marker='x',markeredgewidth=2,linestyle='dashed', color='tab:blue', lw=2),
                Line2D([0], [0], marker='x',markeredgewidth=2,linestyle='dashed',color='tab:green', lw=2),
                Line2D([0], [0], marker='x',markeredgewidth=2,linestyle='dashed',color='tab:orange', lw=2),
                Line2D([0], [0], marker='x',markeredgewidth=2,linestyle='dashed',color='tab:red', lw=2),
                Line2D([0], [0], marker='x',markeredgewidth=2,linestyle='dashed',color='tab:purple', lw=2),
                Line2D([0], [0], linestyle='solid',color='k', lw=2)]
fig.legend(custom_lines,
           [r"\textbf{$K/J$}: "+str(0.0),
            r"\textbf{$K/J$}: "+str(0.167),
            r"\textbf{$K/J$}: "+str(0.333),
            r"\textbf{$K/J$}: "+str(0.5),
            r"\textbf{$K/J$}: "+str(0.667),
            r"$\mathrm{tanh}\frac{g}{k_\mathrm{B} T}$"],
           ncols=6,loc='lower center',handlelength=4.0,bbox_to_anchor=(0.5,-0.025))
fig.tight_layout()
plt.savefig("./paper_plots/enx_ex.png",bbox_inches='tight')
plt.show()


simlist,datafiles,csvfiles = walk_datafiles("../data/ganneal")

plt.rcParams['text.usetex'] = True
lw = 1.5
Jinverse = (2.0/3.0)
Tin = 1.1224*(2.0/3.0)
def g_plot2(Kplot):
    Kplot = np.around(Kplot,2)
    init_type="ganneal"
    colors = plt.cm.turbo(np.linspace(0,1,len(np.arange(0.05,0.51,0.05))))
    fig,ax = plt.subplots(1,1,figsize=(6,6),dpi=125)
    for ic,Tplot in enumerate(np.arange(0.05,0.51,0.05)[3:]):
        X,Y = [],[]
        for gPlot in np.arange(0.0,0.251,0.025):
            for csvfile in csvfiles:
                K = float(csvfile.split("/")[3].split("_")[-3][1:])
                kbt = float(csvfile.split("/")[3].split("_")[-2][3:])
                g = float(csvfile.split("/")[3].split("_")[-1][1:])
                #print("G ",g,gPlot,K,kbt,csvfile)
                if init_type in csvfile and np.isclose(K,Kplot) and np.isclose(kbt,Tplot) and np.isclose(g,gPlot):
                #if K == Kplot and kbt == Tplot and g == gPlot and init_type in csvfile:
                    #print(K,kbt,g,gPlot,K==Kplot,kbt==Tplot,g==gPlot)
                    #print(K,kbt,g,gPlot,np.isclose(K,Kplot),np.isclose(kbt,Tplot),np.isclose(g,gPlot))
                    csv1 = load_csv(csvfile,verbose=False)
                    X.append(g/kbt)
                    Y.append(np.abs(np.mean(csv1[7500:,2])))
        zipped = list(zip(X,Y))
        zipped.sort()
        X,Y = zip(*zipped)
        ax.plot(X,Y,marker='x',markeredgewidth=lw,linewidth=lw,linestyle='dashed',color=colors[ic],label=r"\textbf{$T/T_{IN}$}: "+str(np.around(Tplot/Tin,3)),zorder=2)
        #ax.plot(X,Y,linewidth=lw,linestyle='dashed',color=colors[ic],label=r"\textbf{$T/T_{IN}$}: "+str(np.around(Tplot/Tin,3)),zorder=2)
        ax.set_ylabel(r'\textbf{ $\eta$}',fontsize=default_fontsize)
        ax.set_xlabel(r'\textbf{$g/k_\mathrm{B} T$}',fontsize=default_fontsize)
    ax.set_title(r'\textbf{$K/J =' + str(np.round(Kplot*Jinverse,3)) + '$}',fontsize=default_fontsize)
    ax.plot(np.linspace(0,5),np.tanh(np.linspace(0,5)),linewidth=lw,linestyle='solid',label=r"$\mathrm{tanh}\frac{g}{k_\mathrm{B} T}$",color='k',zorder=1)
    plt.xticks(fontsize=default_fontsize)
    plt.yticks(fontsize=default_fontsize)
    ax.legend(fontsize=default_fontsize-8,loc="best")
    fig.tight_layout()
    plt.savefig("./paper_plots/ent_ex_Ksingle.png")
    plt.show()

g_plot2(0.5)


simlist,datafiles,csvfiles = walk_datafiles("../data/ganneal")

plt.rcParams['text.usetex'] = True
lw = 1.5
Jinverse = (2.0/3.0)
Tin = 1.1224*(2.0/3.0)
fig,axs = plt.subplots(1,5,figsize=(20,4),dpi=150)
Kplots = [0.0,0.25,0.5,0.75,1.0]
for i,Kplot in enumerate(tqdm(np.arange(0.0,1.1,0.25))):
    init_type="ganneal"
    colors = plt.cm.turbo(np.linspace(0,1,len(np.arange(0.05,0.51,0.05))))
    for ic,Tplot in enumerate(np.arange(0.05,0.51,0.05)):
        X,Y = [],[]
        for gPlot in np.arange(0.0,0.251,0.025):
            for csvfile in csvfiles:
                K = float(csvfile.split("/")[3].split("_")[-3][1:])
                kbt = float(csvfile.split("/")[3].split("_")[-2][3:])
                g = float(csvfile.split("/")[3].split("_")[-1][1:])
                #print("G ",g,gPlot,K,kbt,csvfile)
                if init_type in csvfile and np.isclose(K,Kplot) and np.isclose(kbt,Tplot) and np.isclose(g,gPlot):
                #if K == Kplot and kbt == Tplot and g == gPlot and init_type in csvfile:
                    #print(K,kbt,g,gPlot,K==Kplot,kbt==Tplot,g==gPlot)
                    #print(K,kbt,g,gPlot,np.isclose(K,Kplot),np.isclose(kbt,Tplot),np.isclose(g,gPlot))
                    csv1 = load_csv(csvfile,verbose=False)
                    X.append(g/kbt)
                    Y.append(np.abs(np.mean(csv1[7500:,2])))
        zipped = list(zip(X,Y))
        zipped.sort()
        X,Y = zip(*zipped)
        axs[i].plot(X,Y,marker='x',markeredgewidth=lw,linewidth=lw,linestyle='dashed',color=colors[ic],label=r"\textbf{$T/T_{IN}$}: "+str(np.around(Tplot/Tin,3)),zorder=2)
        #ax.plot(X,Y,linewidth=lw,linestyle='dashed',color=colors[ic],label=r"\textbf{$T/T_{IN}$}: "+str(np.around(Tplot/Tin,3)),zorder=2)
        axs[i].set_ylabel(r'\textbf{ $\eta$}')#,fontsize=default_fontsize)
        axs[i].set_xlabel(r'\textbf{$g/k_\mathrm{B} T$}')#,fontsize=default_fontsize)
    axs[i].set_title(r'\textbf{$K/J =' + str(np.round(Kplot*Jinverse,3)) + '$}')#,fontsize=default_fontsize)
    axs[i].plot(np.linspace(0,5),np.tanh(np.linspace(0,5)),linewidth=lw,linestyle='solid',label=r"$tanh(\frac{g}{k_B T})$",color='k',zorder=1)
plt.xticks()#fontsize=default_fontsize)
plt.yticks()#fontsize=default_fontsize)
# custom legend
custom_lines = []
custom_labels = []
for ic,Tplot in enumerate(np.arange(0.05,0.51,0.05)):
    custom_lines.append(Line2D([0], [0], marker='x',markeredgewidth=2,linestyle='dashed', color=colors[ic], lw=lw))
    custom_labels.append(r"\textbf{$T/T_{IN}$}: "+str(np.around(Tplot/Tin,3)))
custom_lines.append(Line2D([0], [0], linestyle='solid',color='k', lw=lw))
custom_labels.append(r"$\mathrm{tanh}\frac{g}{k_\mathrm{B} T}$")
fig.legend(custom_lines,custom_labels,ncols=len(custom_lines),loc='lower center',handlelength=4.0,bbox_to_anchor=(0.5,-0.05))
#fig.legend(custom_lines,custom_labels,ncols=len(custom_lines),loc='outside lower center',handlelength=4.0,)
fig.tight_layout()
plt.savefig("./paper_plots/enx_ex_Kmulti.png",bbox_inches='tight')
plt.show()


#3d plot
# loading all of the csv's from all of the simulations with the macro measured data (total energy, ent. excess, Paccept....)
simlist = []
datafiles = []
csvfiles = []
ic = 0
for root, dirs, files in os.walk("../data/pdanneal/"):
    for file in files:
        #print(file)
        if file.endswith(".npz"):
            datafiles.append(os.path.join(root,file))
        if file.endswith(".csv"):
            csvfiles.append(os.path.join(root,file))
    for name in dirs:
        simlist.append(name)
simlist = sorted(simlist)
datafiles = sorted(datafiles)
csvfiles = sorted(csvfiles)
assert len(simlist) == len(datafiles) == len(csvfiles)

data = np.load(datafiles[120])
s = data['s']
nx = data['nx']
ny = data['ny']
nz = data['nz']
def plot_3d_surf(arr,offset=0,cm='coolwarm'):
    fig,ax = plt.subplots(1,1,figsize=(6,6),dpi=125,subplot_kw={"projection": "3d"})
    X,Y,Z = np.meshgrid(np.arange(arr.shape[0]),np.arange(arr.shape[1]),np.arange(arr.shape[2]))
    
    _ = ax.contourf(X[:,:,0],Y[:,:,0],arr[:,:,0],zdir='z',offset=0,levels=1,cmap=cm)
    _ = ax.contourf(X[:,:,-1],Y[:,:,-1],arr[:,:,-1],zdir='z',offset=Z.max(),levels=1,cmap=cm)
    _ = ax.contourf(X[0,:,:,],arr[0,:,:],Z[0,:,:],zdir='y',offset=0,levels=1,cmap=cm)
    _ = ax.contourf(X[-1,:,:,],arr[1,:,:],Z[-1,:,:],zdir='y',offset=Y.max(),levels=1,cmap=cm)
    _ = ax.contourf(arr[:,0,:],Y[:,0,:],Z[:,0,:],zdir='x',offset=0,levels=1,cmap=cm)
    C = ax.contourf(arr[:,-1,:],Y[:,-1,:],Z[:,-1,:],zdir='x',offset=X.max(),levels=1,cmap=cm)
    # Set limits of the plot from coord limits
    xmin, xmax = X.min(), X.max()
    ymin, ymax = Y.min(), Y.max()
    zmin, zmax = Z.min(), Z.max()
    ax.set(xlim=[xmin, xmax], ylim=[ymin, ymax], zlim=[zmin, zmax])
    
    # Plot edges
    edges_kw = dict(color='0.4', linewidth=1, zorder=1e3)
    ax.plot([xmax, xmin], [ymax,ymax],0,**edges_kw)
    ax.plot([xmax, xmin], [ymax,ymax], [zmax, zmax],**edges_kw)
    ax.plot([xmax, xmax], [ymin, ymax], 0, **edges_kw)
    ax.plot([xmax, xmax], [ymin, ymax], [zmax, zmax], **edges_kw)
    ax.plot([xmin, xmax], [ymin, ymin], 0, **edges_kw)
    ax.plot([xmin, xmax], [ymin, ymin], [zmax, zmax], **edges_kw)
    ax.plot([xmax, xmax], [ymin, ymin], [zmin, zmax], **edges_kw)
    ax.plot([xmax, xmax], [ymax, ymax], [zmin, zmax], **edges_kw)
    ax.plot([xmin, xmin], [ymin, ymin], [zmin, zmax], **edges_kw)
    ax.plot([xmin, xmin], [ymax, ymax], [zmin, zmax], **edges_kw)
    ax.plot([xmin,xmin],[ymin,ymax],[zmin,zmin],**edges_kw)
    ax.plot([xmin,xmin],[ymin,ymax],[zmax,zmax],**edges_kw)
    
    # Set zoom and angle view
    ax.view_init(40, -30, 0)
    ax.set_box_aspect((1,1,1), zoom=1.0)
    
    # Colorbar
    fig.colorbar(C, ax=ax, fraction=0.02, pad=0.1, label='Chirality')
    # Show Figure
    plt.show()

plot_3d_surf(s)


#3d plot
data = np.load("../data/pdanneal/pdanneal_K2.0_kbt0.05/pdanneal_K2.0_kbt0.05_data.npz")
s = data['s']
nx = data['nx']
ny = data['ny']
nz = data['nz']
def plot_3d_surf(arr,offset=0,cm='coolwarm',l=1):
    fig,ax = plt.subplots(1,1,figsize=(6,6),dpi=125,subplot_kw={"projection": "3d"})
    X,Y,Z = np.meshgrid(np.arange(arr.shape[0]),np.arange(arr.shape[1]),np.arange(arr.shape[2]))
    
    _ = ax.contourf(X[:,:,0],Y[:,:,0],arr[:,:,0],zdir='z',offset=0,levels=l,cmap=cm)
    _ = ax.contourf(X[:,:,-1],Y[:,:,-1],arr[:,:,-1],zdir='z',offset=Z.max(),levels=l,cmap=cm)
    _ = ax.contourf(X[0,:,:,],arr[0,:,:],Z[0,:,:],zdir='y',offset=0,levels=l,cmap=cm)
    _ = ax.contourf(X[-1,:,:,],arr[1,:,:],Z[-1,:,:],zdir='y',offset=Y.max(),levels=l,cmap=cm)
    _ = ax.contourf(arr[:,0,:],Y[:,0,:],Z[:,0,:],zdir='x',offset=0,levels=l,cmap=cm)
    C = ax.contourf(arr[:,-1,:],Y[:,-1,:],Z[:,-1,:],zdir='x',offset=X.max(),levels=l,cmap=cm)
    # Set limits of the plot from coord limits
    xmin, xmax = X.min(), X.max()
    ymin, ymax = Y.min(), Y.max()
    zmin, zmax = Z.min(), Z.max()
    ax.set(xlim=[xmin, xmax], ylim=[ymin, ymax], zlim=[zmin, zmax])
    
    # Plot edges
    edges_kw = dict(color='0.4', linewidth=1, zorder=1e3)
    ax.plot([xmax, xmin], [ymax,ymax],0,**edges_kw)
    ax.plot([xmax, xmin], [ymax,ymax], [zmax, zmax],**edges_kw)
    ax.plot([xmax, xmax], [ymin, ymax], 0, **edges_kw)
    ax.plot([xmax, xmax], [ymin, ymax], [zmax, zmax], **edges_kw)
    ax.plot([xmin, xmax], [ymin, ymin], 0, **edges_kw)
    ax.plot([xmin, xmax], [ymin, ymin], [zmax, zmax], **edges_kw)
    ax.plot([xmax, xmax], [ymin, ymin], [zmin, zmax], **edges_kw)
    ax.plot([xmax, xmax], [ymax, ymax], [zmin, zmax], **edges_kw)
    ax.plot([xmin, xmin], [ymin, ymin], [zmin, zmax], **edges_kw)
    ax.plot([xmin, xmin], [ymax, ymax], [zmin, zmax], **edges_kw)
    ax.plot([xmin,xmin],[ymin,ymax],[zmin,zmin],**edges_kw)
    ax.plot([xmin,xmin],[ymin,ymax],[zmax,zmax],**edges_kw)
    
    # Set zoom and angle view
    ax.view_init(40, -30, 0)
    ax.set_box_aspect((1,1,1), zoom=1.0)
    
    # Colorbar
    fig.colorbar(C, ax=ax, fraction=0.02, pad=0.1, label='Energy')
    # Show Figure
    plt.savefig("./paper_plots/blue_phase3d.png")
    plt.show()

E = ekernel(nx,ny,nz,s)
E = E[1:-1,1:-1,1:-1]
# shape = E.shape
E = E[0:20,0:20,0:20]
print(E.min(),E.max())
plot_3d_surf(E,cm='viridis',l=25)


fig,ax = plt.subplots(1,1,figsize=(6,6),dpi=125,subplot_kw={"projection": "3d"})
quiver_kw = dict(length=1.0,normalize=True,pivot='middle',arrow_length_ratio=0.0,linewidths=1.0,cmap='coolwarm')
X,Y,Z = np.meshgrid(np.arange(nx.shape[0]),np.arange(nx.shape[1]),np.arange(nx.shape[2]))
_ = ax.quiver(X[:,:,0],Y[:,:,0],Z[:,:,0],nx[:,:,0],ny[:,:,0],nz[:,:,0],**quiver_kw) #-z
_ = ax.quiver(X[:,:,-1],Y[:,:,-1],Z[:,:,-1],nx[:,:,-1],ny[:,:,-1],nz[:,:,-1],**quiver_kw) #+z
_ = ax.quiver(X[:,0,:],Y[:,0,:],Z[:,0,:],nx[:,0,:],ny[:,0,:],nz[:,0,:],**quiver_kw) #-x
_ = ax.quiver(X[:,-1,:],Y[:,-1,:],Z[:,-1,:],nx[:,-1,:],ny[:,-1,:],nz[:,-1,:],**quiver_kw) #+x
_ = ax.quiver(X[0,:,:],Y[0,:,:],Z[0,:,:],nx[0,:,:],ny[0,:,:],nz[0,:,:],**quiver_kw) #-y
q = ax.quiver(X[-1,:,:],Y[-1,:,:],Z[-1,:,:],nx[-1,:,:],ny[-1,:,:],nz[-1,:,:],**quiver_kw) #+y
# Set limits of the plot from coord limits
xmin, xmax = X.min(), X.max()
ymin, ymax = Y.min(), Y.max()
zmin, zmax = Z.min(), Z.max()
ax.set(xlim=[xmin, xmax], ylim=[ymin, ymax], zlim=[zmin, zmax])

# Plot edges
edges_kw = dict(color='0.4', linewidth=1, zorder=1e3)
ax.plot([xmax, xmin], [ymax,ymax],0,**edges_kw)
ax.plot([xmax, xmin], [ymax,ymax], [zmax, zmax],**edges_kw)
ax.plot([xmax, xmax], [ymin, ymax], 0, **edges_kw)
ax.plot([xmax, xmax], [ymin, ymax], [zmax, zmax], **edges_kw)
ax.plot([xmin, xmax], [ymin, ymin], 0, **edges_kw)
ax.plot([xmin, xmax], [ymin, ymin], [zmax, zmax], **edges_kw)
ax.plot([xmax, xmax], [ymin, ymin], [zmin, zmax], **edges_kw)
ax.plot([xmax, xmax], [ymax, ymax], [zmin, zmax], **edges_kw)
ax.plot([xmin, xmin], [ymin, ymin], [zmin, zmax], **edges_kw)
ax.plot([xmin, xmin], [ymax, ymax], [zmin, zmax], **edges_kw)
ax.plot([xmin,xmin],[ymin,ymax],[zmin,zmin],**edges_kw)
ax.plot([xmin,xmin],[ymin,ymax],[zmax,zmax],**edges_kw)

# Set zoom and angle view
ax.view_init(40, -20, 0)
ax.set_box_aspect((1,1,1), zoom=0.9)
plt.show()


hero_datafiles = ["../data/hero4801/hero4801_data.npz",
            "../data/hero4802/hero4802_data.npz",
            "../data/hero4803/hero4803_data.npz",
            "../data/hero4804/hero4804_data.npz",
            "../data/hero4805/hero4805_data.npz",
            "../data/hero4806/hero4806_data.npz",
            "../data/hero4807/hero4807_data.npz",
            "../data/hero4808/hero4808_data.npz",
            "../data/hero4809/hero4809_data.npz",
            "../data/hero48010/hero48010_data.npz",
            "../data/hero48011/hero48011_data.npz",
            "../data/hero48012/hero48012_data.npz",
            "../data/hero48013/hero48013_data.npz",
            "../data/hero48014/hero48014_data.npz",
            "../data/hero48015/hero48015_data.npz",
            "../data/hero48016/hero48016_data.npz",
            "../data/hero48017/hero48017_data.npz",
            "../data/hero48018/hero48018_data.npz",
            "../data/hero48019/hero48019_data.npz",
            "../data/hero48020/hero48020_data.npz"]

plt.rcParams['text.usetex'] = True
lw = 1.5
Jinverse = (2.0/3.0)
Tin = 1.1224*(2.0/3.0)
fig,axs = plt.subplots(4,5,figsize=(20,16),dpi=125)
nums = np.arange(1,21).reshape(4,5)
for ifile in tqdm(nums.ravel()):
    iplt = np.argwhere(nums==ifile)[0]
    if os.path.isfile(hero_datafiles[ifile-1]):
        data = np.load(hero_datafiles[ifile-1])
        nx = data['nx']
        # ny = data['ny']
        # nz = data['nz']
        mp = int(np.floor(nx.shape[0]/2))
        s = data['s'][:,mp,:]
        X,Y = np.meshgrid(np.arange(nx.shape[0]),np.arange(nx.shape[1]))
        axs[iplt[0],iplt[1]].contourf(X,Y,s,levels=1,cmap="coolwarm")
        axs[iplt[0],iplt[1]].set_title(r"$"+str(ifile)+r"\times 10^5$ steps")
        #axs[ifile].quiver[X,Y,nx[:,mp,:],ny[:,mp,:],s[:,mp,:],pivot='mid',headlength=0,headwith=0,headaxislength=0,scale_units='xy',scale=0.75,cmap='coolwarm')
fig.tight_layout()
fig.savefig("./paper_plots/hero_chirality.png")
plt.show()


hero_datafiles = ["../data/hero4805/hero4805_data.npz",
            "../data/hero48010/hero48010_data.npz",
            "../data/hero48015/hero48015_data.npz",
            "../data/hero48020/hero48020_data.npz"]

plt.rcParams['text.usetex'] = False
lw = 1.5
Jinverse = (2.0/3.0)
Tin = 1.1224*(2.0/3.0)
fig,axs = plt.subplots(2,2,figsize=(10,10),dpi=125,subplot_kw={"projection": "3d"})
nums = np.arange(1,5).reshape(2,2)
for ifile in nums.ravel():
    iplt = np.argwhere(nums == ifile)[0]
    datafile = hero_datafiles[ifile-1]
    if os.path.isfile(datafile):
        data = np.load(datafile)
        s = data['s']
        cm = 'seismic'
        X,Y,Z = np.meshgrid(np.arange(s.shape[0]),np.arange(s.shape[1]),np.arange(s.shape[2]))
        _ = axs[iplt[0],iplt[1]].contourf(X[:,:,0],Y[:,:,0],s[:,:,0],zdir='z',offset=0,levels=1,cmap=cm)
        _ = axs[iplt[0],iplt[1]].contourf(X[:,:,-1],Y[:,:,-1],s[:,:,-1],zdir='z',offset=Z.max(),levels=1,cmap=cm)
        _ = axs[iplt[0],iplt[1]].contourf(X[0,:,:,],s[0,:,:],Z[0,:,:],zdir='y',offset=0,levels=1,cmap=cm)
        _ = axs[iplt[0],iplt[1]].contourf(X[-1,:,:,],s[1,:,:],Z[-1,:,:],zdir='y',offset=Y.max(),levels=1,cmap=cm)
        _ = axs[iplt[0],iplt[1]].contourf(s[:,0,:],Y[:,0,:],Z[:,0,:],zdir='x',offset=0,levels=1,cmap=cm)
        C = axs[iplt[0],iplt[1]].contourf(s[:,-1,:],Y[:,-1,:],Z[:,-1,:],zdir='x',offset=X.max(),levels=1,cmap=cm)
        # Set limits of the plot from coord limits
        xmin, xmax = X.min(), X.max()
        ymin, ymax = Y.min(), Y.max()
        zmin, zmax = Z.min(), Z.max()
        axs[iplt[0],iplt[1]].set(xlim=[xmin, xmax], ylim=[ymin, ymax], zlim=[zmin, zmax])
        axs[iplt[0],iplt[1]].set_title(r"$"+str(ifile*5)+r"\times 10^5$ steps")
        # Plot edges
        edges_kw = dict(color='0.4', linewidth=1, zorder=1e3)
        #axs[i].plot([xmax, xmin], [ymax,ymax],0,**edges_kw)
        axs[iplt[0],iplt[1]].plot([xmax, xmin], [ymax,ymax], [zmax, zmax],**edges_kw)
        axs[iplt[0],iplt[1]].plot([xmax, xmax], [ymin, ymax], 0, **edges_kw)
        axs[iplt[0],iplt[1]].plot([xmax, xmax], [ymin, ymax], [zmax, zmax], **edges_kw)
        axs[iplt[0],iplt[1]].plot([xmin, xmax], [ymin, ymin], 0, **edges_kw)
        axs[iplt[0],iplt[1]].plot([xmin, xmax], [ymin, ymin], [zmax, zmax], **edges_kw)
        axs[iplt[0],iplt[1]].plot([xmax, xmax], [ymin, ymin], [zmin, zmax], **edges_kw)
        axs[iplt[0],iplt[1]].plot([xmax, xmax], [ymax, ymax], [zmin, zmax], **edges_kw)
        axs[iplt[0],iplt[1]].plot([xmin, xmin], [ymin, ymin], [zmin, zmax], **edges_kw)
        #axs[i].plot([xmin, xmin], [ymax, ymax], [zmin, zmax], **edges_kw)
        #axs[i].plot([xmin,xmin],[ymin,ymax],[zmin,zmin],**edges_kw)
        axs[iplt[0],iplt[1]].plot([xmin,xmin],[ymin,ymax],[zmax,zmax],**edges_kw)
        # axs[i].set_xlabel("X")
        # axs[i].set_ylabel("Y")
        # axs[i].set_zlabel("Z")
    
        # Set zoom and angle view
        axs[iplt[0],iplt[1]].view_init(40, -20, 0)
        axs[iplt[0],iplt[1]].set_box_aspect((1,1,1), zoom=1.0)
        
        # Colorbar
#fig.colorbar(C, ax=axs[1,1], fraction=0.02, pad=0.1, label='Chirality')
fig.tight_layout()
fig.savefig("./paper_plots/hero3d_chirality.png")
plt.show()


hero_datafiles = ["../data/hero4801/hero4801_data.npz",
            "../data/hero4802/hero4802_data.npz",
            "../data/hero4803/hero4803_data.npz",
            "../data/hero4804/hero4804_data.npz",
            "../data/hero4805/hero4805_data.npz",
            "../data/hero4806/hero4806_data.npz",
            "../data/hero4807/hero4807_data.npz",
            "../data/hero4808/hero4808_data.npz",
            "../data/hero4809/hero4809_data.npz",
            "../data/hero48010/hero48010_data.npz",
            "../data/hero48011/hero48011_data.npz",
            "../data/hero48012/hero48012_data.npz",
            "../data/hero48013/hero48013_data.npz",
            "../data/hero48014/hero48014_data.npz",
            "../data/hero48015/hero48015_data.npz",
            "../data/hero48016/hero48016_data.npz",
            "../data/hero48017/hero48017_data.npz",
            "../data/hero48018/hero48018_data.npz",
            "../data/hero48019/hero48019_data.npz",
            "../data/hero48020/hero48020_data.npz"]
plt.rcParams['text.usetex'] = True
lw = 1.5
Jinverse = (2.0/3.0)
Tin = 1.1224*(2.0/3.0)
rot = False
for i,datafile in enumerate(hero_datafiles):
    if os.path.isfile(datafile):
        fig,ax = plt.subplots(1,1,figsize=(6,6),dpi=200,subplot_kw={"projection": "3d"})
        data = np.load(datafile)
        s = data['s']
        cm = 'bwr'#'coolwarm'
        X,Y,Z = np.meshgrid(np.arange(s.shape[0]),np.arange(s.shape[1]),np.arange(s.shape[2]))
        _ = ax.contourf(X[:,:,0],Y[:,:,0],s[:,:,0],zdir='z',offset=0,levels=1,cmap=cm)
        _ = ax.contourf(X[:,:,-1],Y[:,:,-1],s[:,:,-1],zdir='z',offset=Z.max(),levels=1,cmap=cm)
        _ = ax.contourf(X[0,:,:,],s[0,:,:],Z[0,:,:],zdir='y',offset=0,levels=1,cmap=cm)
        _ = ax.contourf(X[-1,:,:,],s[1,:,:],Z[-1,:,:],zdir='y',offset=Y.max(),levels=1,cmap=cm)
        _ = ax.contourf(s[:,0,:],Y[:,0,:],Z[:,0,:],zdir='x',offset=0,levels=1,cmap=cm)
        C = ax.contourf(s[:,-1,:],Y[:,-1,:],Z[:,-1,:],zdir='x',offset=X.max(),levels=1,cmap=cm)
        # Set limits of the plot from coord limits
        xmin, xmax = X.min(), X.max()
        ymin, ymax = Y.min(), Y.max()
        zmin, zmax = Z.min(), Z.max()
        ax.set(xlim=[xmin, xmax], ylim=[ymin, ymax], zlim=[zmin, zmax])
        ax.set_title(r"$"+str(i+1)+r"\times 10^5$ steps")
        # Plot edges
        edges_kw = dict(color='0.4', linewidth=1, zorder=1e3)
        #ax.plot([xmax, xmin], [ymax,ymax],0,**edges_kw)
        ax.plot([xmax, xmin], [ymax,ymax], [zmax, zmax],**edges_kw)
        ax.plot([xmax, xmax], [ymin, ymax], 0, **edges_kw)
        ax.plot([xmax, xmax], [ymin, ymax], [zmax, zmax], **edges_kw)
        ax.plot([xmin, xmax], [ymin, ymin], 0, **edges_kw)
        ax.plot([xmin, xmax], [ymin, ymin], [zmax, zmax], **edges_kw)
        ax.plot([xmax, xmax], [ymin, ymin], [zmin, zmax], **edges_kw)
        ax.plot([xmax, xmax], [ymax, ymax], [zmin, zmax], **edges_kw)
        ax.plot([xmin, xmin], [ymin, ymin], [zmin, zmax], **edges_kw)
        #ax.plot([xmin, xmin], [ymax, ymax], [zmin, zmax], **edges_kw)
        #ax.plot([xmin,xmin],[ymin,ymax],[zmin,zmin],**edges_kw)
        ax.plot([xmin,xmin],[ymin,ymax],[zmax,zmax],**edges_kw)
        # ax.set_xlabel("X")
        # ax.set_ylabel("Y")
        # ax.set_zlabel("Z")
    
        # Set zoom and angle view
        if rot:
            ax.view_init(40, -30+i*10, 0)
        else:
            ax.view_init(40,-30,0)
        ax.set_box_aspect((1,1,1), zoom=1.0)
        print(str(i+1).zfill(2))
        fig.colorbar(C, ax=ax, fraction=0.02, pad=0.1, label='Chirality')
        fig.tight_layout()
        fig.savefig("./paper_plots/anim_frames/anim_"+str(i+1).zfill(2)+".png",dpi=200)
        plt.close(fig)
#ffmpeg -framerate 1 -pattern_type glob -i '*.png' -vcodec libx264 -s 640x640 -pix_fmt yuv420p -crf 10 anim.mp4


datafiles = ["../data/pdanneal/pdanneal_K0.25_kbt0.05/pdanneal_K0.25_kbt0.05_data.npz",
            "../data/pdanneal/pdanneal_K0.75_kbt0.05/pdanneal_K0.75_kbt0.05_data.npz",
            "../data/pdanneal/pdanneal_K1.25_kbt0.05/pdanneal_K1.25_kbt0.05_data.npz",
            "../data/pdanneal/pdanneal_K2.25_kbt0.05/pdanneal_K2.25_kbt0.05_data.npz",
            "../data/pdanneal/pdanneal_K3.0_kbt0.05/pdanneal_K3.0_kbt0.05_data.npz"]

plt.rcParams['text.usetex'] = False
lw = 1.5
Jinverse = (2.0/3.0)
Tin = 1.1224*(2.0/3.0)
#fig,axs = plt.subplots(2,5,figsize=(24,8),dpi=125)#,layout='tight',gridspec_kw=dict(hspace=0.25,wspace=0.25))
fig,axs = plt.subplots(1,5,figsize=(20,4),dpi=125)#,layout='tight',gridspec_kw=dict(hspace=0.25,wspace=0.25))
# chirality
for i in range(5):
    data = np.load(datafiles[i])
    nx = data['nx']
    ny = data['ny']
    nz = data['nz']
    s = data['s']
    mp = int(np.floor(nx.shape[0]/2))
    X,Y = np.meshgrid(np.arange(nx.shape[0]),np.arange(nx.shape[1]))
    #axs[0,i].contourf(X,Y,s[:,mp,:],levels=1,cmap="coolwarm")
    axs[i].quiver(X,Y,nx[:,mp,:],nz[:,mp,:],s[:,mp,:],pivot='mid',headaxislength=0,units='xy',scale=0.65,headlength=0,headwidth=0,cmap="coolwarm")
    axs[i].set_aspect('equal')
    axs[i].set_title(r"$K/J="+str(np.round(float(datafiles[i].split("_")[1][1:])*Jinverse,3))+"$")
    axs[i].set_xlim(0,128)
    axs[i].set_ylim(0,128)
# for i in range(5):
#     data = np.load(datafiles[i])
#     nx = data['nx']
#     ny = data['ny']
#     nz = data['nz']
#     s = data['s']
#     mp = int(np.floor(nx.shape[0]/2))
#     X,Y = np.meshgrid(np.arange(nx.shape[0]),np.arange(nx.shape[1]))
#     E = ekernel(nx,ny,nz,s)
#     #axs[1,i].contourf(X,Y,E[:,mp,:],levels=1,cmap="viridis")
#     axs[1,i].quiver(X,Y,nx[:,mp,:],nz[:,mp,:],E[:,mp,:],pivot='mid',headaxislength=0,units='xy',scale=0.65,headlength=0,headwidth=0,cmap="viridis")
#     axs[1,i].set_aspect('equal','box')
#     axs[1,i].set_xlim(1,127)
#     axs[1,i].set_ylim(1,127)
#fig.colorbar(mpl.cm.ScalarMappable(norm=mpl.colors.BoundaryNorm([-1,0,1],4),cmap='coolwarm'),ax=axs[0,4],orientation='vertical',label="Chirality",shrink=0.75)
#fig.colorbar(mpl.cm.ScalarMappable(norm=mpl.colors.Normalize(-1,1),cmap='coolwarm'),ax=axs[4],orientation='vertical',label="Chirality")#,shrink=0.75)
#fig.colorbar(mpl.cm.ScalarMappable(norm=mpl.colors.Normalize(E.min(),E.max()),cmap='viridis'),ax=axs[1,4],orientation='vertical',label="Energy",shrink=0.75)
fig.tight_layout()
#plt.savefig("./paper_plots/chirality_energy_lowkbt.png")
plt.savefig("./paper_plots/chirality_lowkbt.png")
plt.show()


#3d energy plot
import plotly.graph_objects as go
from plotly.offline import iplot,init_notebook_mode
init_notebook_mode(connected=True)
datafile = "../data/pdanneal/pdanneal_K2.25_kbt0.05/pdanneal_K2.25_kbt0.05_data.npz"
data = np.load(datafile)
nx = data['nx']
ny = data['ny']
nz = data['nz']
s = data['s']
E = ekernel(nx,ny,nz,s)
E = E[1:-1,1:-1,1:-1]
shape = E.shape
E = E[0:20,0:20,0:20]
print(E.min(),E.max())
shape = E.shape
x,y,z = np.indices(shape)
fig = go.Figure(data = go.Volume(
    x = x.flatten(),
    y = y.flatten(),
    z = z.flatten(),
    value=E.flatten(),
    colorscale='Viridis',
    isomin = 0.25,
    isomax = E.max(),
    opacity = 0.75,
    surface_count=10))
fig.update_layout(
    autosize=True,
    width=750,
    height=750,
    title= "3D Energy Volume")
fig.show()



