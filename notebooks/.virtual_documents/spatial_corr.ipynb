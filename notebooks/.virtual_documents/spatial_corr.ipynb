import numpy as np
import matplotlib.pyplot as plt
from mpl_toolkits.mplot3d import axes3d 
import os
from tqdm.auto import tqdm
from numba import jit
# loading all of the csv's from all of the simulations with the macro measured data (total energy, ent. excess, Paccept....)
simlist = []
datafiles = []
csvfiles = []
for root, dirs, files in os.walk("../data/400000"):
    for file in files:
        if file.endswith(".npz"):
            datafiles.append(os.path.join(root,file))
        if file.endswith(".csv"):
            csvfiles.append(os.path.join(root,file))
    for name in dirs:
        simlist.append(name)
simlist = sorted(simlist)
datafiles = sorted(datafiles)
csvfiles = sorted(csvfiles)
assert len(simlist) == len(datafiles) == len(csvfiles)


def load_csv(fname,verbose=True):
    if verbose:
        with open(fname) as f:
            print(f.readline().strip('\n'))
    return np.loadtxt(fname,skiprows=1,delimiter=",")

def plot_energy(fpath,csv1,save=False):
    fig,ax1 = plt.subplots()
    ax1.set_title(simlist[0])
    ax1.plot(csv1[:,0],csv1[:,1],label="TotalEnergy")
    ax1.set_xlabel("timesteps")
    ax1.set_ylabel("Total Energy")
    ax1.tick_params(axis ='y', labelcolor="tab:blue")
    ax2  = ax1.twinx()
    ax2.plot(csv1[:,0],csv1[:,2],label="Eexcess",color="tab:orange")
    ax2.set_ylabel("Ent. Excess")
    ax2.tick_params(axis ='y', labelcolor = "tab:orange")
    plt.show()
    if save:
        fname = fpath[:-4]+"_energy.png"
        print(fname)
        fig.savefig(fname)
    
@jit(nopython=True)
def calc_n_corr(nx,ny,nz,nshells):
    g = np.zeros(nshells)
    c = np.zeros(nshells)
    ni,nj,nk = nx.shape
    for i in np.arange(ni):
        for j in np.arange(nj):
            for k in np.arange(nk):
                for di in np.arange(-nshells,nshells+1):
                    for dj in np.arange(-nshells,nshells+1):
                        for dk in np.arange(-nshells,nshells+1):
                            r2 = di*di + dj*dj + dk*dk
                            if r2 < nshells*nshells:
                                rr = np.sqrt(r2)
                                ii = i + di
                                jj = j + dj
                                kk = k + dk
                                if (ii < ni) and (jj < nj) and (kk < nk) and (ii >= 0) and (jj >= 0) and (kk >= 0):
                                    ishell = int(np.floor(rr))
                                    g[ishell] = g[ishell] + (nx[i,j,k]*nx[ii,jj,kk] + ny[i,j,k]*ny[ii,jj,kk] + nz[i,j,k]*nz[ii,jj,kk])**2
                                    c[ishell] += 1
    for ishell in np.arange(nshells):
        g[ishell] = g[ishell]/c[ishell]
    return g,c
                                
@jit(nopython=True)
def calc_s_corr(s,nshells):
    g = np.zeros(nshells)
    c = np.zeros(nshells)
    ni,nj,nk = s.shape
    for i in np.arange(ni):
        for j in np.arange(nj):
            for k in np.arange(nk):
                #print(i,j,k)
                for di in np.arange(-nshells,nshells+1):
                    for dj in np.arange(-nshells,nshells+1):
                        for dk in np.arange(-nshells,nshells+1):
                            r2 = di*di + dj*dj + dk*dk
                            if r2 < nshells*nshells:
                                rr = np.sqrt(r2)
                                ii = i + di
                                jj = j + dj
                                kk = k + dk
                                if (ii < ni) and (jj < nj) and (kk < nk) and (ii >= 0) and (jj >= 0) and (kk >= 0):
                                    ishell = int(np.floor(rr))
                                    #assert ishell > 0
                                    g[ishell] = g[ishell] + s[i,j,k] * s[ii,jj,kk]
                                    c[ishell] += 1
    s_avg2 = np.mean(s)**2
    for ishell in np.arange(nshells):
        g[ishell] = g[ishell]/c[ishell] - s_avg2
    return g,c

def plot_s_corr(fpath,g):
    nshells = len(g)
    fig,ax = plt.subplots()
    ax.set_title(fpath.split("/")[-2])
    ax.plot(np.arange(nshells),g)
    ax.set_ylabel("Chiral Correlation")
    ax.set_xlabel("Shells")
    plt.show()

def plot_n_corr(fpath,g):
    nshells = len(g)
    fig,ax = plt.subplots()
    ax.set_title(fpath.split("/")[-2])
    ax.plot(np.arange(nshells),g)
    ax.set_ylabel("Nematic Correlation")
    ax.set_xlabel("Shells")
    plt.show()
    
%matplotlib ipympl



for i in range(len(datafiles)):
    print(i,datafiles[i])


datafile = datafiles[242]
print(datafile)
data = np.load(datafile)
ni,nj,nk = data['nx'].shape
X,Z = np.meshgrid(np.arange(0,ni),np.arange(0,nk))
mp = int(np.floor(nj/2))
u = data['nx'][:,mp,:]
v = data['ny'][:,mp,:]
w = data['nz'][:,mp,:]
s_color = data['s'][:,mp,:]
fig = plt.figure(figsize=(10,10))
ax = fig.add_subplot(111)

ax.quiver(X,Z,u,w,s_color,pivot='mid',headlength=0,headwidth=0,headaxislength=0,scale_units='xy',scale=0.75,cmap='coolwarm')
ax.set_xlabel('X')
ax.set_ylabel('Z')
plt.plot()


datafile = datafiles[242]
print(datafile)
data = np.load(datafile)
ni,nj,nk = data['nx'].shape


    
nshells = 16
g,c = calc_s_corr(np.array(data['s']),nshells)
print(g)
print(c)
plot_s_corr(datafile,g)
# g,c = calc_n_corr(np.array(data['nx']),np.array(data['ny']),np.array(data['nz']),nshells)
# plot_n_corr(datafile,g)


import scipy

def func(x, a, l):
    return a * np.exp(-x/l)
    
# print(g)
# print(c)
nshells = len(g)

popt, pcov = scipy.optimize.curve_fit(func, np.arange(nshells),g)
print(popt)

fig,ax = plt.subplots()
ax.set_title(datafile.split("/")[-2])
ax.plot(np.arange(nshells),g)
ax.plot(np.arange(nshells),func(np.arange(nshells),popt[0],popt[1]))
#ax.plot(np.arange(nshells),func(np.arange(nshells),0.1,1))
ax.set_ylabel("Chiral Correlation")
ax.set_xlabel("Shells")
plt.show()


Ks = []
kbts = []
for csvfile in csvfiles:
    csv1 = load_csv(csvfile,verbose=False)
    K = float(csvfile.split("/")[3].split("_")[-2][1:])
    kbt = float(csvfile.split("/")[3].split("_")[-1][3:])
    Ks.append(K)
    kbts.append(kbt)
Ks = sorted(list(set(Ks))) #list of all Ks w/ duplicates removed
kbts = sorted(list(set(kbts))) # list of all Kbts w/ duplicates removed
print(Ks)
print(kbts)
for K in Ks:
    for temp in kbts:
        


Ks = []
kbts = []
for csvfile in csvfiles:
    csv1 = load_csv(csvfile,verbose=False)
    K = float(csvfile.split("/")[3].split("_")[-2][1:])
    kbt = float(csvfile.split("/")[3].split("_")[-1][3:])
    Ks.append(K)
    kbts.append(kbt)
Ks = sorted(list(set(Ks))) #list of all Ks w/ duplicates removed
kbts = sorted(list(set(kbts))) # list of all Kbts w/ duplicates removed
print(Ks)
print(kbts)
nshells = 16
g_s = np.array((len(kbts),nshells))
g_n = np.array((len(kbts),nshells))

for ikbt in kbts:
    
g,c = calc_s_corr(np.array(data['s']),nshells)
print(g)
print(c)
plot_s_corr(datafile,g)
g,c = calc_n_corr(np.array(data['nx']),np.array(data['ny']),np.array(data['nz']),nshells)



