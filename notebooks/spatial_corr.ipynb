{
 "cells": [
  {
   "cell_type": "code",
   "execution_count": 1,
   "id": "1623306f-666a-4817-890f-76a4f459c1b5",
   "metadata": {},
   "outputs": [],
   "source": [
    "import numpy as np\n",
    "import matplotlib.pyplot as plt\n",
    "from mpl_toolkits.mplot3d import axes3d \n",
    "import os\n",
    "# loading all of the csv's from all of the simulations with the macro measured data (total energy, ent. excess, Paccept....)\n",
    "simlist = []\n",
    "datafiles = []\n",
    "csvfiles = []\n",
    "for root, dirs, files in os.walk(\"../data\"):\n",
    "    for file in files:\n",
    "        if file.endswith(\".npz\"):\n",
    "            datafiles.append(os.path.join(root,file))\n",
    "        if file.endswith(\".csv\"):\n",
    "            csvfiles.append(os.path.join(root,file))\n",
    "    for name in dirs:\n",
    "        simlist.append(name)\n",
    "simlist = sorted(simlist)\n",
    "datafiles = sorted(datafiles)\n",
    "csvfiles = sorted(csvfiles)\n",
    "assert len(simlist) == len(datafiles) == len(csvfiles)\n",
    "\n",
    "\n",
    "def load_csv(fname,verbose=True):\n",
    "    if verbose:\n",
    "        with open(fname) as f:\n",
    "            print(f.readline().strip('\\n'))\n",
    "    return np.loadtxt(fname,skiprows=1,delimiter=\",\")\n",
    "\n",
    "def plot_energy(fpath,csv1,save=False):\n",
    "    fig,ax1 = plt.subplots()\n",
    "    ax1.set_title(simlist[0])\n",
    "    ax1.plot(csv1[:,0],csv1[:,1],label=\"TotalEnergy\")\n",
    "    ax1.set_xlabel(\"timesteps\")\n",
    "    ax1.set_ylabel(\"Total Energy\")\n",
    "    ax1.tick_params(axis ='y', labelcolor=\"tab:blue\")\n",
    "    ax2  = ax1.twinx()\n",
    "    ax2.plot(csv1[:,0],csv1[:,2],label=\"Eexcess\",color=\"tab:orange\")\n",
    "    ax2.set_ylabel(\"Ent. Excess\")\n",
    "    ax2.tick_params(axis ='y', labelcolor = \"tab:orange\")\n",
    "    plt.show()\n",
    "    if save:\n",
    "        fname = fpath[:-4]+\"_energy.png\"\n",
    "        print(fname)\n",
    "        fig.savefig(fname)\n",
    "        \n",
    "%matplotlib ipympl"
   ]
  },
  {
   "cell_type": "code",
   "execution_count": null,
   "id": "4f7d3fea-e10f-489d-88c4-465027e8ca7c",
   "metadata": {},
   "outputs": [],
   "source": []
  }
 ],
 "metadata": {
  "kernelspec": {
   "display_name": "Python 3 (ipykernel)",
   "language": "python",
   "name": "python3"
  },
  "language_info": {
   "codemirror_mode": {
    "name": "ipython",
    "version": 3
   },
   "file_extension": ".py",
   "mimetype": "text/x-python",
   "name": "python",
   "nbconvert_exporter": "python",
   "pygments_lexer": "ipython3",
   "version": "3.12.0"
  }
 },
 "nbformat": 4,
 "nbformat_minor": 5
}
